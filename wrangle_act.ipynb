{
 "cells": [
  {
   "cell_type": "markdown",
   "metadata": {},
   "source": [
    "## Project: Wrangle and Analyze Data - WeRateDogs"
   ]
  },
  {
   "cell_type": "markdown",
   "metadata": {},
   "source": [
    "### Gathering data"
   ]
  },
  {
   "cell_type": "code",
   "execution_count": 1,
   "metadata": {},
   "outputs": [],
   "source": [
    "import numpy as np\n",
    "import pandas as pd\n",
    "import matplotlib.pyplot as plt\n",
    "import json\n",
    "%matplotlib inline\n",
    "from bs4 import BeautifulSoup\n",
    "import seaborn as sns\n",
    "\n",
    "pd.set_option('display.max_colwidth', -1)"
   ]
  },
  {
   "cell_type": "code",
   "execution_count": 2,
   "metadata": {},
   "outputs": [],
   "source": [
    "#reading csv file using pandas\n",
    "df = pd.read_csv('twitter-archive-enhanced.csv')"
   ]
  },
  {
   "cell_type": "code",
   "execution_count": 3,
   "metadata": {},
   "outputs": [
    {
     "data": {
      "text/plain": [
       "(2356, 17)"
      ]
     },
     "execution_count": 3,
     "metadata": {},
     "output_type": "execute_result"
    }
   ],
   "source": [
    "#getting no of rows and columns in dataset\n",
    "df.shape"
   ]
  },
  {
   "cell_type": "code",
   "execution_count": 4,
   "metadata": {},
   "outputs": [
    {
     "name": "stdout",
     "output_type": "stream",
     "text": [
      "<class 'pandas.core.frame.DataFrame'>\n",
      "RangeIndex: 2356 entries, 0 to 2355\n",
      "Data columns (total 17 columns):\n",
      "tweet_id                      2356 non-null int64\n",
      "in_reply_to_status_id         78 non-null float64\n",
      "in_reply_to_user_id           78 non-null float64\n",
      "timestamp                     2356 non-null object\n",
      "source                        2356 non-null object\n",
      "text                          2356 non-null object\n",
      "retweeted_status_id           181 non-null float64\n",
      "retweeted_status_user_id      181 non-null float64\n",
      "retweeted_status_timestamp    181 non-null object\n",
      "expanded_urls                 2297 non-null object\n",
      "rating_numerator              2356 non-null int64\n",
      "rating_denominator            2356 non-null int64\n",
      "name                          2356 non-null object\n",
      "doggo                         2356 non-null object\n",
      "floofer                       2356 non-null object\n",
      "pupper                        2356 non-null object\n",
      "puppo                         2356 non-null object\n",
      "dtypes: float64(4), int64(3), object(10)\n",
      "memory usage: 313.0+ KB\n"
     ]
    }
   ],
   "source": [
    "#information about dataset such as name of columns, each column data type and no of null-not null objects\n",
    "df.info()"
   ]
  },
  {
   "cell_type": "code",
   "execution_count": 5,
   "metadata": {},
   "outputs": [],
   "source": [
    "#getting TSV (tab seperated values by request module and writing in file)\n",
    "import requests\n",
    "url='https://d17h27t6h515a5.cloudfront.net/topher/2017/August/599fd2ad_image-predictions/image-predictions.tsv'\n",
    "response = requests.get(url)\n",
    "with open('image_predictions.tsv', mode='wb') as file:\n",
    "    file.write(response.content)    \n",
    "img_df = pd.read_csv('image_predictions.tsv', sep='\\t')"
   ]
  },
  {
   "cell_type": "code",
   "execution_count": 6,
   "metadata": {},
   "outputs": [
    {
     "data": {
      "text/plain": [
       "2356"
      ]
     },
     "execution_count": 6,
     "metadata": {},
     "output_type": "execute_result"
    }
   ],
   "source": [
    "len(df['tweet_id'])"
   ]
  },
  {
   "cell_type": "code",
   "execution_count": 7,
   "metadata": {},
   "outputs": [],
   "source": [
    "#####################################################\n",
    "# This cell will take 20-30 minutes to run so you can skill this cell and directly go to next cell\n",
    "#####################################################\n",
    "\n",
    "import tweepy\n",
    "from tweepy import OAuthHandler\n",
    "import json\n",
    "from timeit import default_timer as timer\n",
    "\n",
    "# Query Twitter API for each tweet in the Twitter archive and save JSON in a text file\n",
    "\n",
    "consumer_key = \n",
    "consumer_secret = \n",
    "access_token = \n",
    "access_secret = \n",
    "\n",
    "auth = OAuthHandler(consumer_key, consumer_secret)\n",
    "auth.set_access_token(access_token, access_secret)\n",
    "\n",
    "api = tweepy.API(auth, wait_on_rate_limit=True)\n",
    "\n",
    "# Tweet IDs for which to gather additional data via Twitter's API\n",
    "tweet_ids = df.tweet_id.values\n",
    "len(tweet_ids)\n",
    "\n",
    "# Query Twitter's API for JSON data for each tweet ID in the Twitter archive\n",
    "count = 0\n",
    "fails_dict = {}\n",
    "start = timer()\n",
    "# Save each tweet's returned JSON as a new line in a .txt file\n",
    "with open('tweet_json.txt', 'w', encoding = 'utf8') as outfile:\n",
    "    # This loop will likely take 20-30 minutes to run because of Twitter's rate limit\n",
    "    for tweet_id in df['tweet_id']:\n",
    "        count += 1\n",
    "        \n",
    "        try:\n",
    "            tweet = api.get_status(tweet_id, tweet_mode='extended')\n",
    "            print(str(count) + \": \" + str(tweet_id) + \"Success\")\n",
    "            json.dump(tweet._json, outfile)\n",
    "            outfile.write('\\n')\n",
    "        except tweepy.TweepError as e:\n",
    "            print(\"Fail\")\n",
    "            fails_dict[tweet_id] = e\n",
    "            pass\n",
    "end = timer()\n",
    "print(end - start)\n",
    "print(fails_dict)\n",
    "\n",
    "# List of dictionaries to read tweet's JSON data line by line and later convert to a DataFrame\n",
    "df_list = []\n",
    "with open('tweet_json.txt', 'r') as json_file:\n",
    "    for line in json_file:\n",
    "        status = json.loads(line)\n",
    "        \n",
    "        # Append to list of dictionaries\n",
    "        df_list.append({'tweet_id': status['id'],\n",
    "                        'retweet_count': status['retweet_count'],\n",
    "                        'favorite_count': status['favorite_count'],\n",
    "                        'display_text_range': status['display_text_range']\n",
    "                       })\n",
    "\n",
    "# Create a DataFrame with tweet ID, retweet count, favorite count and display_text_range\n",
    "status_df = pd.DataFrame(df_list, columns = ['tweet_id', 'retweet_count', 'favorite_count', 'display_text_range'])"
   ]
  },
  {
   "cell_type": "code",
   "execution_count": 8,
   "metadata": {},
   "outputs": [],
   "source": [
    "###############################################\n",
    "#if you don't want to spend much time on upper process run this cell directly for tweet data. \n",
    "#Uncomment next line\n",
    "###############################################\n",
    "\n",
    "# status_df = pd.read_csv('tweet_csv.csv')"
   ]
  },
  {
   "cell_type": "code",
   "execution_count": 9,
   "metadata": {},
   "outputs": [
    {
     "data": {
      "text/plain": [
       "2337"
      ]
     },
     "execution_count": 9,
     "metadata": {},
     "output_type": "execute_result"
    }
   ],
   "source": [
    "len(status_df)"
   ]
  },
  {
   "cell_type": "markdown",
   "metadata": {},
   "source": [
    "### Comparision of 3 different dataset"
   ]
  },
  {
   "cell_type": "code",
   "execution_count": 10,
   "metadata": {},
   "outputs": [
    {
     "data": {
      "text/plain": [
       "<matplotlib.axes._subplots.AxesSubplot at 0x1d318c18e48>"
      ]
     },
     "execution_count": 10,
     "metadata": {},
     "output_type": "execute_result"
    },
    {
     "data": {
      "image/png": "[encoded data removed]",
      "text/plain": [
       "<Figure size 432x288 with 1 Axes>"
      ]
     },
     "metadata": {
      "needs_background": "light"
     },
     "output_type": "display_data"
    }
   ],
   "source": [
    "pd.Series([len(status_df),len(df['tweet_id']),df.shape[0]]).plot(kind='bar', title=\"No of Samples in Each Dataset\")"
   ]
  },
  {
   "cell_type": "markdown",
   "metadata": {},
   "source": [
    "- In all the dataset we have almost same amount of data so data is not scattered"
   ]
  },
  {
   "cell_type": "code",
   "execution_count": 11,
   "metadata": {},
   "outputs": [],
   "source": [
    "# creating a copy of df as df, because using df is easier and faster instead of long names like df or twitter_achive\n",
    "df = df.copy()"
   ]
  },
  {
   "cell_type": "markdown",
   "metadata": {},
   "source": [
    "df columns\n",
    "\n",
    "- **tweet_id**: unique no for any tweet\n",
    "\n",
    "- **in_reply_to_status_id**: it will give original tweet id if your your tweet is reply of some other tweet\n",
    "- **in_reply_to_user_id**: it will give original tweet author id if your your tweet is reply of some other tweet\n",
    "- **timestamp**: date and time of tweet\n",
    "- **source**: name of the device used to tweet i.e Twitter for Android, Twitter for iPhone, Twitter Web Client\n",
    "- **text**: text of the status\n",
    "- **retweeted_status_id**: it will give original tweet id if your your tweet is retweet of some other tweet\n",
    "- **retweeted_status_user_id**: it will give original tweet author id if your your tweet is retweet of some other tweet\n",
    "- **retweeted_status_timestamp**: time of retweet\n",
    "- **expanded_urls**: tweet URL\n",
    "- **rating_numerator**: rating of the dog \n",
    "- **rating_denominator**: rating of the dog out of 10\n",
    "- **name**: name of the dog\n",
    "- **doggo**: dog \"stage\"\n",
    "- **floofer**: dog \"stage\"\n",
    "- **pupper**: dog \"stage\"\n",
    "- **puppo**: dog \"stage\""
   ]
  },
  {
   "cell_type": "code",
   "execution_count": 12,
   "metadata": {},
   "outputs": [
    {
     "data": {
      "text/plain": [
       "tweet_id                      0   \n",
       "in_reply_to_status_id         2278\n",
       "in_reply_to_user_id           2278\n",
       "timestamp                     0   \n",
       "source                        0   \n",
       "text                          0   \n",
       "retweeted_status_id           2175\n",
       "retweeted_status_user_id      2175\n",
       "retweeted_status_timestamp    2175\n",
       "expanded_urls                 59  \n",
       "rating_numerator              0   \n",
       "rating_denominator            0   \n",
       "name                          0   \n",
       "doggo                         0   \n",
       "floofer                       0   \n",
       "pupper                        0   \n",
       "puppo                         0   \n",
       "dtype: int64"
      ]
     },
     "execution_count": 12,
     "metadata": {},
     "output_type": "execute_result"
    }
   ],
   "source": [
    "# no of missing values for each columns\n",
    "df.isnull().sum()"
   ]
  },
  {
   "cell_type": "markdown",
   "metadata": {},
   "source": [
    "- `in_reply_to_status_id` `in_reply_to_user_id`,`retweeted_status_id`,`retweeted_status_user_id`,`retweeted_status_timestamp` has many null values which also can be seen from below plot"
   ]
  },
  {
   "cell_type": "code",
   "execution_count": 13,
   "metadata": {},
   "outputs": [
    {
     "data": {
      "text/plain": [
       "<matplotlib.axes._subplots.AxesSubplot at 0x1d318e55c88>"
      ]
     },
     "execution_count": 13,
     "metadata": {},
     "output_type": "execute_result"
    },
    {
     "data": {
      "image/png": "[encoded data removed]",
      "text/plain": [
       "<Figure size 432x288 with 1 Axes>"
      ]
     },
     "metadata": {
      "needs_background": "light"
     },
     "output_type": "display_data"
    }
   ],
   "source": [
    "#plotting no of missing values so that we can easily get the idea that which columns can be removed\n",
    "df.isnull().sum().plot(kind='bar')"
   ]
  },
  {
   "cell_type": "markdown",
   "metadata": {},
   "source": [
    "### Dataset 2"
   ]
  },
  {
   "cell_type": "markdown",
   "metadata": {},
   "source": [
    "`img_df` (tweet image predictions) columns:\n",
    "    \n",
    "- **tweet_id**: unique number for any tweet\n",
    "- **jpg_url**: URL of dog's image\n",
    "- **img_num**: dog's best photo using which rating has given\n",
    "- **p1**: first algorithm for prediction of the dog image in the tweet\n",
    "- **p1_conf**: confident score of the first algorithm\n",
    "- **p1_dog**: prediction of first algorithm is dor or not\n",
    "- **p2**: second algorithm for prediction of the dog image in the tweet\n",
    "- **p2_conf**: confident score of the second algorithm\n",
    "- **p2_dog**: prediction of second algorithm is dor or not\n",
    "- **p3**: third algorithm for prediction of the dog image in the tweet\n",
    "- **p3_conf**: confident score of the third algorithm\n",
    "- **p3_dog**: prediction of second algorithm is dor or not"
   ]
  },
  {
   "cell_type": "code",
   "execution_count": 14,
   "metadata": {},
   "outputs": [
    {
     "name": "stdout",
     "output_type": "stream",
     "text": [
      "<class 'pandas.core.frame.DataFrame'>\n",
      "RangeIndex: 2075 entries, 0 to 2074\n",
      "Data columns (total 12 columns):\n",
      "tweet_id    2075 non-null int64\n",
      "jpg_url     2075 non-null object\n",
      "img_num     2075 non-null int64\n",
      "p1          2075 non-null object\n",
      "p1_conf     2075 non-null float64\n",
      "p1_dog      2075 non-null bool\n",
      "p2          2075 non-null object\n",
      "p2_conf     2075 non-null float64\n",
      "p2_dog      2075 non-null bool\n",
      "p3          2075 non-null object\n",
      "p3_conf     2075 non-null float64\n",
      "p3_dog      2075 non-null bool\n",
      "dtypes: bool(3), float64(3), int64(2), object(4)\n",
      "memory usage: 152.1+ KB\n"
     ]
    }
   ],
   "source": [
    "img_df.info()"
   ]
  },
  {
   "cell_type": "markdown",
   "metadata": {},
   "source": [
    "status_df (tweet status) columns:\n",
    "\n",
    "- **id**: unique number of tweet\n",
    "- **retweet_count**: number of retweet count of original tweet\n",
    "- **favorite_count**: no of favorites or like of any tweet"
   ]
  },
  {
   "cell_type": "markdown",
   "metadata": {},
   "source": [
    "### Dataset 3 (Fetched Twitter Data using Tweepy API)"
   ]
  },
  {
   "cell_type": "code",
   "execution_count": 15,
   "metadata": {},
   "outputs": [
    {
     "name": "stdout",
     "output_type": "stream",
     "text": [
      "<class 'pandas.core.frame.DataFrame'>\n",
      "RangeIndex: 2337 entries, 0 to 2336\n",
      "Data columns (total 6 columns):\n",
      "tweet_id           2337 non-null int64\n",
      "favorites          2337 non-null int64\n",
      "retweets           2337 non-null int64\n",
      "user_followers     2337 non-null int64\n",
      "user_favourites    2337 non-null int64\n",
      "date_time          2337 non-null object\n",
      "dtypes: int64(5), object(1)\n",
      "memory usage: 109.7+ KB\n"
     ]
    }
   ],
   "source": [
    "status_df.info()"
   ]
  },
  {
   "cell_type": "markdown",
   "metadata": {},
   "source": [
    "### Enlisting quality issues identified in df table\n",
    "\n",
    "-  many tweet_id(s) of df table are missing in img_df (image predictions). So drop the tweet_ids that are not present in img_df\n",
    "- `in_reply_to_status_id`, `in_reply_to_user_id`,`retweeted_status_id`, `retweeted_status_user_id`, `retweeted_status_timestamp` have a lot of missing values.\n",
    "- Timestamp of the tweet should be in datetime format. So that data is converted to timestamp format.\n",
    "- values of rating_numerator and rating_denominator has range between 0 to 10. But some values are higher than 10 which makes ration of numerator and denominator higher than 1\n",
    "- Dataset contains retweet data too. So while fetching retweet data we are getting same content of data. So that duplicate data should be removed.\n",
    "- some rating are too high which is not actual rating but some other data. That is outlier so we have to remove those outlier. \n",
    "- some columns contains same data but in different format so we have to make they uniform. \n"
   ]
  },
  {
   "cell_type": "markdown",
   "metadata": {},
   "source": [
    "#### img_df\n",
    "- df file has 2376 values where as img_df has 2075 values so some of the tweets do not have image. \n",
    "- lack of uniformality in values of p1,p2, p3. This can create problem which making category. \n"
   ]
  },
  {
   "cell_type": "markdown",
   "metadata": {},
   "source": [
    "### Tidiness Issues\n",
    "- doggo, floofer, pupper and puppo columns in df should be merged into one column named \"stage\"\n",
    "- img_df table should be merged with df on tweet_id\n",
    "- status_df table should be merged with df on tweet_id\n",
    "- Merge `df` and `img_df` into `twitter_csv`."
   ]
  },
  {
   "cell_type": "markdown",
   "metadata": {},
   "source": [
    "### Cleaning the data"
   ]
  },
  {
   "cell_type": "code",
   "execution_count": 16,
   "metadata": {},
   "outputs": [],
   "source": [
    "# creating a copy of tables before cleaning tasks are performed\n",
    "twitter_csv = df.copy()\n",
    "img_df_copy = img_df.copy()\n",
    "twitter_api = status_df.copy()"
   ]
  },
  {
   "cell_type": "code",
   "execution_count": 17,
   "metadata": {},
   "outputs": [],
   "source": [
    "twitter_csv = pd.merge(left=twitter_csv,\n",
    "                                 right=img_df_copy, left_on='tweet_id', right_on='tweet_id', how='inner')"
   ]
  },
  {
   "cell_type": "code",
   "execution_count": 18,
   "metadata": {},
   "outputs": [
    {
     "name": "stdout",
     "output_type": "stream",
     "text": [
      "<class 'pandas.core.frame.DataFrame'>\n",
      "RangeIndex: 2075 entries, 0 to 2074\n",
      "Data columns (total 12 columns):\n",
      "tweet_id    2075 non-null int64\n",
      "jpg_url     2075 non-null object\n",
      "img_num     2075 non-null int64\n",
      "p1          2075 non-null object\n",
      "p1_conf     2075 non-null float64\n",
      "p1_dog      2075 non-null bool\n",
      "p2          2075 non-null object\n",
      "p2_conf     2075 non-null float64\n",
      "p2_dog      2075 non-null bool\n",
      "p3          2075 non-null object\n",
      "p3_conf     2075 non-null float64\n",
      "p3_dog      2075 non-null bool\n",
      "dtypes: bool(3), float64(3), int64(2), object(4)\n",
      "memory usage: 152.1+ KB\n"
     ]
    }
   ],
   "source": [
    "img_df.info()"
   ]
  },
  {
   "cell_type": "code",
   "execution_count": 19,
   "metadata": {},
   "outputs": [
    {
     "name": "stdout",
     "output_type": "stream",
     "text": [
      "<class 'pandas.core.frame.DataFrame'>\n",
      "Int64Index: 2075 entries, 0 to 2074\n",
      "Data columns (total 28 columns):\n",
      "tweet_id                      2075 non-null int64\n",
      "in_reply_to_status_id         23 non-null float64\n",
      "in_reply_to_user_id           23 non-null float64\n",
      "timestamp                     2075 non-null object\n",
      "source                        2075 non-null object\n",
      "text                          2075 non-null object\n",
      "retweeted_status_id           81 non-null float64\n",
      "retweeted_status_user_id      81 non-null float64\n",
      "retweeted_status_timestamp    81 non-null object\n",
      "expanded_urls                 2075 non-null object\n",
      "rating_numerator              2075 non-null int64\n",
      "rating_denominator            2075 non-null int64\n",
      "name                          2075 non-null object\n",
      "doggo                         2075 non-null object\n",
      "floofer                       2075 non-null object\n",
      "pupper                        2075 non-null object\n",
      "puppo                         2075 non-null object\n",
      "jpg_url                       2075 non-null object\n",
      "img_num                       2075 non-null int64\n",
      "p1                            2075 non-null object\n",
      "p1_conf                       2075 non-null float64\n",
      "p1_dog                        2075 non-null bool\n",
      "p2                            2075 non-null object\n",
      "p2_conf                       2075 non-null float64\n",
      "p2_dog                        2075 non-null bool\n",
      "p3                            2075 non-null object\n",
      "p3_conf                       2075 non-null float64\n",
      "p3_dog                        2075 non-null bool\n",
      "dtypes: bool(3), float64(7), int64(4), object(14)\n",
      "memory usage: 427.6+ KB\n"
     ]
    }
   ],
   "source": [
    "#twitter_csv should also now have only 2075 tweet_id(s)\n",
    "twitter_csv.info()"
   ]
  },
  {
   "cell_type": "code",
   "execution_count": 20,
   "metadata": {},
   "outputs": [
    {
     "data": {
      "text/plain": [
       "Index(['tweet_id', 'in_reply_to_status_id', 'in_reply_to_user_id', 'timestamp',\n",
       "       'source', 'text', 'retweeted_status_id', 'retweeted_status_user_id',\n",
       "       'retweeted_status_timestamp', 'expanded_urls', 'rating_numerator',\n",
       "       'rating_denominator', 'name', 'doggo', 'floofer', 'pupper', 'puppo',\n",
       "       'jpg_url', 'img_num', 'p1', 'p1_conf', 'p1_dog', 'p2', 'p2_conf',\n",
       "       'p2_dog', 'p3', 'p3_conf', 'p3_dog'],\n",
       "      dtype='object')"
      ]
     },
     "execution_count": 20,
     "metadata": {},
     "output_type": "execute_result"
    }
   ],
   "source": [
    "twitter_csv.columns"
   ]
  },
  {
   "cell_type": "code",
   "execution_count": 21,
   "metadata": {},
   "outputs": [],
   "source": [
    "twitter_csv = twitter_csv[twitter_csv['retweeted_status_id'].isnull()]"
   ]
  },
  {
   "cell_type": "markdown",
   "metadata": {},
   "source": [
    "- Drop `retweeted_status_id`, `retweeted_status_user_id` , `retweeted_status_timestamp`,`in_reply_to_status_id`,`in_reply_to_user_id` from twitter_csv"
   ]
  },
  {
   "cell_type": "code",
   "execution_count": 22,
   "metadata": {},
   "outputs": [],
   "source": [
    "twitter_csv.drop(['retweeted_status_id', 'retweeted_status_user_id', 'retweeted_status_timestamp', 'in_reply_to_status_id','in_reply_to_user_id'], axis = 1, inplace = True)"
   ]
  },
  {
   "cell_type": "markdown",
   "metadata": {},
   "source": [
    "- Change datatype of timestamp variable to datetime using to_datetime function of pandas"
   ]
  },
  {
   "cell_type": "code",
   "execution_count": 23,
   "metadata": {},
   "outputs": [],
   "source": [
    "twitter_csv['timestamp']=pd.to_datetime(twitter_csv['timestamp'])"
   ]
  },
  {
   "cell_type": "code",
   "execution_count": 24,
   "metadata": {},
   "outputs": [],
   "source": [
    "# Extracting just the text from the HTML tags and storing in df['clean_source']\n",
    "twitter_csv['source']=twitter_csv['source'].apply(lambda x: BeautifulSoup(x, \"lxml\").get_text())"
   ]
  },
  {
   "cell_type": "code",
   "execution_count": 25,
   "metadata": {},
   "outputs": [
    {
     "data": {
      "text/plain": [
       "Twitter for iPhone    1955\n",
       "Twitter Web Client    28  \n",
       "TweetDeck             11  \n",
       "Name: source, dtype: int64"
      ]
     },
     "execution_count": 25,
     "metadata": {},
     "output_type": "execute_result"
    }
   ],
   "source": [
    "twitter_csv['source'].value_counts()"
   ]
  },
  {
   "cell_type": "code",
   "execution_count": 26,
   "metadata": {},
   "outputs": [
    {
     "data": {
      "text/plain": [
       "<matplotlib.axes._subplots.AxesSubplot at 0x2b40ab339b0>"
      ]
     },
     "execution_count": 26,
     "metadata": {},
     "output_type": "execute_result"
    },
    {
     "data": {
      "image/png": "[encoded data removed]",
      "text/plain": [
       "<Figure size 1152x720 with 1 Axes>"
      ]
     },
     "metadata": {
      "needs_background": "light"
     },
     "output_type": "display_data"
    }
   ],
   "source": [
    "df['rating_denominator'].value_counts().sort_index().plot(kind='bar', figsize=(16,10))"
   ]
  },
  {
   "cell_type": "code",
   "execution_count": 27,
   "metadata": {},
   "outputs": [
    {
     "data": {
      "text/plain": [
       "<matplotlib.axes._subplots.AxesSubplot at 0x2b40ab33fd0>"
      ]
     },
     "execution_count": 27,
     "metadata": {},
     "output_type": "execute_result"
    },
    {
     "data": {
      "image/png": "[encoded data removed]",
      "text/plain": [
       "<Figure size 1152x720 with 1 Axes>"
      ]
     },
     "metadata": {
      "needs_background": "light"
     },
     "output_type": "display_data"
    }
   ],
   "source": [
    "df['rating_numerator'].value_counts().sort_index().plot(kind='bar', figsize=(16,10))"
   ]
  },
  {
   "cell_type": "code",
   "execution_count": 28,
   "metadata": {},
   "outputs": [
    {
     "name": "stderr",
     "output_type": "stream",
     "text": [
      "C:\\Users\\iKhushPatel\\Anaconda3\\lib\\site-packages\\pandas\\core\\strings.py:1843: UserWarning: This pattern has match groups. To actually get the groups, use str.extract.\n",
      "  return func(self, *args, **kwargs)\n"
     ]
    },
    {
     "data": {
      "text/html": [
       "<div>\n",
       "<style scoped>\n",
       "    .dataframe tbody tr th:only-of-type {\n",
       "        vertical-align: middle;\n",
       "    }\n",
       "\n",
       "    .dataframe tbody tr th {\n",
       "        vertical-align: top;\n",
       "    }\n",
       "\n",
       "    .dataframe thead th {\n",
       "        text-align: right;\n",
       "    }\n",
       "</style>\n",
       "<table border=\"1\" class=\"dataframe\">\n",
       "  <thead>\n",
       "    <tr style=\"text-align: right;\">\n",
       "      <th></th>\n",
       "      <th>tweet_id</th>\n",
       "      <th>text</th>\n",
       "      <th>rating_numerator</th>\n",
       "    </tr>\n",
       "  </thead>\n",
       "  <tbody>\n",
       "    <tr>\n",
       "      <td>41</td>\n",
       "      <td>883482846933004288</td>\n",
       "      <td>This is Bella. She hopes her smile made you smile. If not, she is also offering you her favorite monkey. 13.5/10 https://t.co/qjrljjt948</td>\n",
       "      <td>5</td>\n",
       "    </tr>\n",
       "    <tr>\n",
       "      <td>559</td>\n",
       "      <td>786709082849828864</td>\n",
       "      <td>This is Logan, the Chow who lived. He solemnly swears he's up to lots of good. H*ckin magical af 9.75/10 https://t.co/yBO5wuqaPS</td>\n",
       "      <td>75</td>\n",
       "    </tr>\n",
       "    <tr>\n",
       "      <td>615</td>\n",
       "      <td>778027034220126208</td>\n",
       "      <td>This is Sophie. She's a Jubilant Bush Pupper. Super h*ckin rare. Appears at random just to smile at the locals. 11.27/10 would smile back https://t.co/QFaUiIHxHq</td>\n",
       "      <td>27</td>\n",
       "    </tr>\n",
       "    <tr>\n",
       "      <td>1453</td>\n",
       "      <td>680494726643068929</td>\n",
       "      <td>Here we have uncovered an entire battalion of holiday puppers. Average of 11.26/10 https://t.co/eNm2S6p9BD</td>\n",
       "      <td>26</td>\n",
       "    </tr>\n",
       "  </tbody>\n",
       "</table>\n",
       "</div>"
      ],
      "text/plain": [
       "                tweet_id  \\\n",
       "41    883482846933004288   \n",
       "559   786709082849828864   \n",
       "615   778027034220126208   \n",
       "1453  680494726643068929   \n",
       "\n",
       "                                                                                                                                                                   text  \\\n",
       "41    This is Bella. She hopes her smile made you smile. If not, she is also offering you her favorite monkey. 13.5/10 https://t.co/qjrljjt948                            \n",
       "559   This is Logan, the Chow who lived. He solemnly swears he's up to lots of good. H*ckin magical af 9.75/10 https://t.co/yBO5wuqaPS                                    \n",
       "615   This is Sophie. She's a Jubilant Bush Pupper. Super h*ckin rare. Appears at random just to smile at the locals. 11.27/10 would smile back https://t.co/QFaUiIHxHq   \n",
       "1453  Here we have uncovered an entire battalion of holiday puppers. Average of 11.26/10 https://t.co/eNm2S6p9BD                                                          \n",
       "\n",
       "      rating_numerator  \n",
       "41    5                 \n",
       "559   75                \n",
       "615   27                \n",
       "1453  26                "
      ]
     },
     "execution_count": 28,
     "metadata": {},
     "output_type": "execute_result"
    }
   ],
   "source": [
    "twitter_csv = twitter_csv[twitter_csv['rating_denominator']>=10]\n",
    "twitter_csv[twitter_csv['rating_denominator']==11][['text','rating_denominator']]\n",
    "twitter_csv.loc[twitter_csv['rating_denominator']==11,'rating_denominator']=10\n",
    "twitter_csv.loc[twitter_csv['rating_numerator']>14]['text']\n",
    "twitter_csv[twitter_csv['text'].str.contains(r\"(\\d+\\.\\d*\\/\\d+)\")][['tweet_id','text','rating_numerator']]"
   ]
  },
  {
   "cell_type": "code",
   "execution_count": 29,
   "metadata": {},
   "outputs": [
    {
     "data": {
      "text/plain": [
       "count    1990.000000\n",
       "mean     1.054891   \n",
       "std      0.218506   \n",
       "min      0.000000   \n",
       "25%      1.000000   \n",
       "50%      1.100000   \n",
       "75%      1.200000   \n",
       "max      1.400000   \n",
       "Name: rating, dtype: float64"
      ]
     },
     "execution_count": 29,
     "metadata": {},
     "output_type": "execute_result"
    }
   ],
   "source": [
    "twitter_csv['rating_numerator'] = pd.to_numeric(twitter_csv.text.str.extract('((?:\\d+\\.)?\\d+)\\/(\\d+)', expand=True)[0])\n",
    "twitter_csv['rating_denominator'] = pd.to_numeric(twitter_csv.text.str.extract('((?:\\d+\\.)?\\d+)\\/(\\d+)', expand=True)[1])\n",
    "twitter_csv =  twitter_csv[twitter_csv['rating_numerator']<420]\n",
    "twitter_csv['rating']=twitter_csv['rating_numerator']/twitter_csv['rating_denominator']\n",
    "twitter_csv.drop(['rating_numerator', 'rating_denominator'], axis=1, inplace = True)\n",
    "twitter_csv['rating'].describe()"
   ]
  },
  {
   "cell_type": "code",
   "execution_count": 30,
   "metadata": {},
   "outputs": [
    {
     "name": "stderr",
     "output_type": "stream",
     "text": [
      "C:\\Users\\iKhushPatel\\Anaconda3\\lib\\site-packages\\ipykernel_launcher.py:3: SettingWithCopyWarning: \n",
      "A value is trying to be set on a copy of a slice from a DataFrame\n",
      "\n",
      "See the caveats in the documentation: http://pandas.pydata.org/pandas-docs/stable/user_guide/indexing.html#returning-a-view-versus-a-copy\n",
      "  This is separate from the ipykernel package so we can avoid doing imports until\n"
     ]
    }
   ],
   "source": [
    "twitter_csv[twitter_csv['name'].apply(len)==1][['tweet_id', 'name','text']]\n",
    "twitter_csv['name'] = twitter_csv['name'].replace(\"O\",\"O'Malley\")\n",
    "twitter_csv['name'][twitter_csv['name'].str.match('[a-z]+')]= 'None'"
   ]
  },
  {
   "cell_type": "code",
   "execution_count": 31,
   "metadata": {},
   "outputs": [],
   "source": [
    "#Some dogs has multiple stages, will concatenate them.\n",
    "\n",
    "twitter_csv.loc[twitter_csv.doggo == 'None', 'doggo'] = ''\n",
    "twitter_csv.loc[twitter_csv.floofer == 'None', 'floofer'] = ''\n",
    "twitter_csv.loc[twitter_csv.pupper == 'None', 'pupper'] = ''\n",
    "twitter_csv.loc[twitter_csv.puppo == 'None', 'puppo'] = ''\n",
    "\n",
    "twitter_csv.groupby([\"doggo\", \"floofer\", \"pupper\", \"puppo\"]).size().reset_index().rename(columns={0: \"count\"})\n",
    "\n",
    "twitter_csv['dog_stage'] = twitter_csv.doggo + twitter_csv.floofer + twitter_csv.pupper + twitter_csv.puppo\n",
    "twitter_csv.loc[twitter_csv.dog_stage == 'doggopupper', 'dog_stage'] = 'doggo,pupper'\n",
    "twitter_csv.loc[twitter_csv.dog_stage == 'doggopuppo', 'dog_stage'] = 'doggo,puppo'\n",
    "twitter_csv.loc[twitter_csv.dog_stage == 'doggofloofer', 'dog_stage'] = 'doggo,floofer'\n",
    "\n",
    "twitter_csv.loc[twitter_csv.dog_stage == '', 'dog_stage'] = 'None'"
   ]
  },
  {
   "cell_type": "code",
   "execution_count": 32,
   "metadata": {},
   "outputs": [
    {
     "data": {
      "text/plain": [
       "None             1684\n",
       "pupper           203 \n",
       "doggo            63  \n",
       "puppo            22  \n",
       "doggo,pupper     9   \n",
       "floofer          7   \n",
       "doggo,puppo      1   \n",
       "doggo,floofer    1   \n",
       "Name: dog_stage, dtype: int64"
      ]
     },
     "execution_count": 32,
     "metadata": {},
     "output_type": "execute_result"
    }
   ],
   "source": [
    "twitter_csv.dog_stage.value_counts()"
   ]
  },
  {
   "cell_type": "code",
   "execution_count": 33,
   "metadata": {},
   "outputs": [],
   "source": [
    "twitter_csv.drop(columns=['doggo','floofer', 'pupper', 'puppo'], inplace=True)"
   ]
  },
  {
   "cell_type": "code",
   "execution_count": 34,
   "metadata": {},
   "outputs": [],
   "source": [
    "twitter_csv.to_csv('twitter_archive_master.csv', index = False, encoding='utf-8')"
   ]
  },
  {
   "cell_type": "code",
   "execution_count": 35,
   "metadata": {},
   "outputs": [],
   "source": [
    "# Append the first True predection to the list 'perdictions' and the level appended to list 'confidence_level',\n",
    "# Otherwise, will append NaN.\n",
    "predictions = []\n",
    "confidence_level = []\n",
    "\n",
    "def prediction_func(dataframe):\n",
    "    if dataframe['p1_dog'] == True:\n",
    "        predictions.append(dataframe['p1'])\n",
    "        confidence_level.append(dataframe['p1_conf'])\n",
    "    elif dataframe['p2_dog'] == True:\n",
    "        predictions.append(dataframe['p2'])\n",
    "        confidence_level.append(dataframe['p2_conf'])\n",
    "    elif dataframe['p3_dog'] == True:\n",
    "        predictions.append(dataframe['p3'])\n",
    "        confidence_level.append(dataframe['p3_conf'])\n",
    "    else:\n",
    "        predictions.append('NaN')\n",
    "        confidence_level.append(0)\n",
    "\n",
    "img_df_copy.apply(prediction_func, axis=1)\n",
    "img_df_copy['prediction'] = predictions\n",
    "img_df_copy['confidence_level'] = confidence_level\n",
    "\n",
    "\n",
    "\n",
    "# Delete columns\n",
    "img_df_copy = img_df_copy.drop(['img_num', 'p1', 'p1_conf', 'p1_dog', 'p2', 'p2_conf',\n",
    "                                                    'p2_dog', 'p3', 'p3_conf', 'p3_dog'], 1)"
   ]
  },
  {
   "cell_type": "markdown",
   "metadata": {},
   "source": [
    "## Analyse and Visualize Data"
   ]
  },
  {
   "cell_type": "markdown",
   "metadata": {},
   "source": [
    "### Que: People submitted data through which platform? "
   ]
  },
  {
   "cell_type": "code",
   "execution_count": 36,
   "metadata": {},
   "outputs": [
    {
     "data": {
      "text/plain": [
       "<matplotlib.axes._subplots.AxesSubplot at 0x2b40ada94a8>"
      ]
     },
     "execution_count": 36,
     "metadata": {},
     "output_type": "execute_result"
    },
    {
     "data": {
      "image/png": "[encoded data removed]",
      "text/plain": [
       "<Figure size 432x288 with 1 Axes>"
      ]
     },
     "metadata": {
      "needs_background": "light"
     },
     "output_type": "display_data"
    }
   ],
   "source": [
    "twitter_csv['source'].value_counts().plot(kind='bar', title='Dogs Sources Distribution')"
   ]
  },
  {
   "cell_type": "markdown",
   "metadata": {},
   "source": [
    "### Que: People prefer which kind of dogs most? "
   ]
  },
  {
   "cell_type": "code",
   "execution_count": 37,
   "metadata": {},
   "outputs": [
    {
     "data": {
      "text/plain": [
       "<matplotlib.axes._subplots.AxesSubplot at 0x2b40aeb7240>"
      ]
     },
     "execution_count": 37,
     "metadata": {},
     "output_type": "execute_result"
    },
    {
     "data": {
      "image/png": "[encoded data removed]",
      "text/plain": [
       "<Figure size 432x288 with 1 Axes>"
      ]
     },
     "metadata": {
      "needs_background": "light"
     },
     "output_type": "display_data"
    }
   ],
   "source": [
    "twitter_csv['dog_stage'].value_counts()[1:4].plot(kind='bar', title='The Distribution of Dog Stages')"
   ]
  },
  {
   "cell_type": "markdown",
   "metadata": {},
   "source": [
    "### Que: Most famous names of the Dogs?"
   ]
  },
  {
   "cell_type": "code",
   "execution_count": 38,
   "metadata": {},
   "outputs": [
    {
     "data": {
      "text/plain": [
       "<matplotlib.axes._subplots.AxesSubplot at 0x2b40af1d198>"
      ]
     },
     "execution_count": 38,
     "metadata": {},
     "output_type": "execute_result"
    },
    {
     "data": {
      "image/png": "[encoded data removed]",
      "text/plain": [
       "<Figure size 432x288 with 1 Axes>"
      ]
     },
     "metadata": {
      "needs_background": "light"
     },
     "output_type": "display_data"
    }
   ],
   "source": [
    "twitter_csv['name'].value_counts()[1:11].head(11).plot(kind='bar', title=\"Names of Famous Dogs\")"
   ]
  },
  {
   "cell_type": "code",
   "execution_count": 39,
   "metadata": {},
   "outputs": [],
   "source": [
    "twitter_csv['year_month']= twitter_csv['timestamp'].apply(lambda x: str(x.year) +\"_\"+ str(x.month) )"
   ]
  },
  {
   "cell_type": "markdown",
   "metadata": {},
   "source": [
    "### Que: Time series of tweets posted"
   ]
  },
  {
   "cell_type": "code",
   "execution_count": 40,
   "metadata": {},
   "outputs": [
    {
     "data": {
      "text/plain": [
       "<matplotlib.axes._subplots.AxesSubplot at 0x2b40b261ba8>"
      ]
     },
     "execution_count": 40,
     "metadata": {},
     "output_type": "execute_result"
    },
    {
     "data": {
      "image/png": "[encoded data removed]",
      "text/plain": [
       "<Figure size 1008x720 with 1 Axes>"
      ]
     },
     "metadata": {
      "needs_background": "light"
     },
     "output_type": "display_data"
    }
   ],
   "source": [
    "data = pd.DataFrame(twitter_csv.groupby('year_month')['tweet_id'].count())\n",
    "data['tweet_id'].plot(kind = 'line', figsize=(14,10))"
   ]
  },
  {
   "cell_type": "markdown",
   "metadata": {},
   "source": [
    "### Que: Average Rating of dogs by WeRateDogs twitter handle"
   ]
  },
  {
   "cell_type": "code",
   "execution_count": 41,
   "metadata": {},
   "outputs": [
    {
     "data": {
      "text/plain": [
       "<matplotlib.axes._subplots.AxesSubplot at 0x2b40b211978>"
      ]
     },
     "execution_count": 41,
     "metadata": {},
     "output_type": "execute_result"
    },
    {
     "data": {
      "image/png": "[encoded data removed]",
      "text/plain": [
       "<Figure size 1008x576 with 1 Axes>"
      ]
     },
     "metadata": {
      "needs_background": "light"
     },
     "output_type": "display_data"
    }
   ],
   "source": [
    "bins = [0, .1, .2, .3, .4, .5, .6, .7, .8, .9, 1, 1.1, 1.2, 1.3, 1.4]\n",
    "twitter_csv.rating.plot(kind='hist', title = 'Histogram of Dog Ratings', figsize=(14,8))"
   ]
  },
  {
   "cell_type": "markdown",
   "metadata": {},
   "source": [
    "### Que: Corelation of Retweets and Favourites"
   ]
  },
  {
   "cell_type": "code",
   "execution_count": 42,
   "metadata": {},
   "outputs": [
    {
     "name": "stderr",
     "output_type": "stream",
     "text": [
      "C:\\Users\\iKhushPatel\\Anaconda3\\lib\\site-packages\\seaborn\\regression.py:574: UserWarning: The `size` parameter has been renamed to `height`; please update your code.\n",
      "  warnings.warn(msg, UserWarning)\n"
     ]
    },
    {
     "data": {
      "image/png": "[encoded data removed]",
      "text/plain": [
       "<Figure size 468x360 with 1 Axes>"
      ]
     },
     "metadata": {
      "needs_background": "light"
     },
     "output_type": "display_data"
    }
   ],
   "source": [
    "\n",
    "#twitter_api.plot(kind='scatter', x='retweets', y='favorites', figsize=(16,10), title=\"Corelation Coefficient \"+str(round(twitter_api['retweets'].corr(twitter_api['favorites'], method='pearson', min_periods=None),3)))\n",
    "\n",
    "# Plot scatterplot of retweet vs favorite count\n",
    "sns.lmplot(x=\"retweets\", \n",
    "           y=\"favorites\", \n",
    "           data=twitter_api,\n",
    "           size = 5,\n",
    "           aspect=1.3,\n",
    "           scatter_kws={'alpha':1/5})\n",
    "plt.title('Favorite vs. Retweet Count')\n",
    "plt.xlabel('Retweet Count')\n",
    "plt.ylabel('Favorite Count');"
   ]
  }
 ],
 "metadata": {
  "kernelspec": {
   "display_name": "Python 3",
   "language": "python",
   "name": "python3"
  },
  "language_info": {
   "codemirror_mode": {
    "name": "ipython",
    "version": 3
   },
   "file_extension": ".py",
   "mimetype": "text/x-python",
   "name": "python",
   "nbconvert_exporter": "python",
   "pygments_lexer": "ipython3",
   "version": "3.6.5"
  }
 },
 "nbformat": 4,
 "nbformat_minor": 2
}
